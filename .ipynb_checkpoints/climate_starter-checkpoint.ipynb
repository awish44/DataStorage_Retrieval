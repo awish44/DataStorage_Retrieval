{
 "cells": [
  {
   "cell_type": "code",
   "execution_count": 2,
   "metadata": {},
   "outputs": [],
   "source": [
    "%matplotlib inline\n",
    "from matplotlib import style\n",
    "#style.use('fivethirtyeight')\n",
    "import matplotlib.pyplot as plt"
   ]
  },
  {
   "cell_type": "code",
   "execution_count": 3,
   "metadata": {},
   "outputs": [],
   "source": [
    "import numpy as np\n",
    "import pandas as pd\n",
    "import os"
   ]
  },
  {
   "cell_type": "code",
   "execution_count": 4,
   "metadata": {},
   "outputs": [],
   "source": [
    "import datetime as dt\n",
    "import matplotlib.dates as mdates"
   ]
  },
  {
   "cell_type": "markdown",
   "metadata": {},
   "source": [
    "# Reflect Tables into SQLAlchemy ORM"
   ]
  },
  {
   "cell_type": "code",
   "execution_count": 5,
   "metadata": {},
   "outputs": [],
   "source": [
    "# Python SQL toolkit and Object Relational Mapper\n",
    "import sqlalchemy\n",
    "from sqlalchemy.ext.automap import automap_base\n",
    "from sqlalchemy.orm import Session\n",
    "from sqlalchemy import create_engine, func"
   ]
  },
  {
   "cell_type": "code",
   "execution_count": 6,
   "metadata": {},
   "outputs": [],
   "source": [
    "engine = create_engine(\"sqlite:///Resources/hawaii.sqlite\")\n",
    "conn = engine.connect()"
   ]
  },
  {
   "cell_type": "code",
   "execution_count": 7,
   "metadata": {},
   "outputs": [],
   "source": [
    "# reflect an existing database into a new model\n",
    "Base = automap_base()\n",
    "# reflect the tables\n",
    "Base.prepare(engine, reflect=True)"
   ]
  },
  {
   "cell_type": "code",
   "execution_count": 8,
   "metadata": {},
   "outputs": [
    {
     "data": {
      "text/plain": [
       "['measurement', 'station']"
      ]
     },
     "execution_count": 8,
     "metadata": {},
     "output_type": "execute_result"
    }
   ],
   "source": [
    "# We can view all of the classes that automap found\n",
    "Base.classes.keys()"
   ]
  },
  {
   "cell_type": "code",
   "execution_count": 9,
   "metadata": {},
   "outputs": [],
   "source": [
    "# Save references to each table\n",
    "Measurement = Base.classes.measurement\n",
    "Station = Base.classes.station"
   ]
  },
  {
   "cell_type": "code",
   "execution_count": 10,
   "metadata": {},
   "outputs": [],
   "source": [
    "# Create our session (link) from Python to the DB\n",
    "session = Session(engine)"
   ]
  },
  {
   "cell_type": "markdown",
   "metadata": {},
   "source": [
    "# Exploratory Climate Analysis"
   ]
  },
  {
   "cell_type": "code",
   "execution_count": 11,
   "metadata": {},
   "outputs": [
    {
     "data": {
      "text/plain": [
       "{'_sa_instance_state': <sqlalchemy.orm.state.InstanceState at 0x163e24f6e80>,\n",
       " 'prcp': 0.08,\n",
       " 'station': 'USC00519397',\n",
       " 'tobs': 65.0,\n",
       " 'date': '2010-01-01',\n",
       " 'id': 1}"
      ]
     },
     "execution_count": 11,
     "metadata": {},
     "output_type": "execute_result"
    }
   ],
   "source": [
    "# Visualize Measurment first set of data as a dictionary\n",
    "first_row = session.query(Measurement).first()\n",
    "first_row.__dict__\n",
    "\n",
    "# 'date' and 'prcp' keys are what I need to extract and use date formating "
   ]
  },
  {
   "cell_type": "code",
   "execution_count": 12,
   "metadata": {},
   "outputs": [
    {
     "data": {
      "text/plain": [
       "{'_sa_instance_state': <sqlalchemy.orm.state.InstanceState at 0x163e2536a90>,\n",
       " 'elevation': 3.0,\n",
       " 'longitude': -157.8168,\n",
       " 'name': 'WAIKIKI 717.2, HI US',\n",
       " 'id': 1,\n",
       " 'latitude': 21.2716,\n",
       " 'station': 'USC00519397'}"
      ]
     },
     "execution_count": 12,
     "metadata": {},
     "output_type": "execute_result"
    }
   ],
   "source": [
    "# Visualize Station first set of data as a dictionary\n",
    "first_row = session.query(Station).first()\n",
    "first_row.__dict__"
   ]
  },
  {
   "cell_type": "code",
   "execution_count": 13,
   "metadata": {},
   "outputs": [
    {
     "data": {
      "text/html": [
       "<div>\n",
       "<style scoped>\n",
       "    .dataframe tbody tr th:only-of-type {\n",
       "        vertical-align: middle;\n",
       "    }\n",
       "\n",
       "    .dataframe tbody tr th {\n",
       "        vertical-align: top;\n",
       "    }\n",
       "\n",
       "    .dataframe thead th {\n",
       "        text-align: right;\n",
       "    }\n",
       "</style>\n",
       "<table border=\"1\" class=\"dataframe\">\n",
       "  <thead>\n",
       "    <tr style=\"text-align: right;\">\n",
       "      <th></th>\n",
       "      <th>id</th>\n",
       "      <th>station</th>\n",
       "      <th>date</th>\n",
       "      <th>prcp</th>\n",
       "      <th>tobs</th>\n",
       "    </tr>\n",
       "  </thead>\n",
       "  <tbody>\n",
       "    <tr>\n",
       "      <th>0</th>\n",
       "      <td>1</td>\n",
       "      <td>USC00519397</td>\n",
       "      <td>2010-01-01</td>\n",
       "      <td>0.08</td>\n",
       "      <td>65.0</td>\n",
       "    </tr>\n",
       "    <tr>\n",
       "      <th>1</th>\n",
       "      <td>2</td>\n",
       "      <td>USC00519397</td>\n",
       "      <td>2010-01-02</td>\n",
       "      <td>0.00</td>\n",
       "      <td>63.0</td>\n",
       "    </tr>\n",
       "    <tr>\n",
       "      <th>2</th>\n",
       "      <td>3</td>\n",
       "      <td>USC00519397</td>\n",
       "      <td>2010-01-03</td>\n",
       "      <td>0.00</td>\n",
       "      <td>74.0</td>\n",
       "    </tr>\n",
       "    <tr>\n",
       "      <th>3</th>\n",
       "      <td>4</td>\n",
       "      <td>USC00519397</td>\n",
       "      <td>2010-01-04</td>\n",
       "      <td>0.00</td>\n",
       "      <td>76.0</td>\n",
       "    </tr>\n",
       "    <tr>\n",
       "      <th>4</th>\n",
       "      <td>5</td>\n",
       "      <td>USC00519397</td>\n",
       "      <td>2010-01-06</td>\n",
       "      <td>NaN</td>\n",
       "      <td>73.0</td>\n",
       "    </tr>\n",
       "  </tbody>\n",
       "</table>\n",
       "</div>"
      ],
      "text/plain": [
       "   id      station        date  prcp  tobs\n",
       "0   1  USC00519397  2010-01-01  0.08  65.0\n",
       "1   2  USC00519397  2010-01-02  0.00  63.0\n",
       "2   3  USC00519397  2010-01-03  0.00  74.0\n",
       "3   4  USC00519397  2010-01-04  0.00  76.0\n",
       "4   5  USC00519397  2010-01-06   NaN  73.0"
      ]
     },
     "execution_count": 13,
     "metadata": {},
     "output_type": "execute_result"
    }
   ],
   "source": [
    "# Converting to DF\n",
    "measurement_df = pd.read_sql(\"SELECT * FROM Measurement\", conn)\n",
    "measurement_df.head()"
   ]
  },
  {
   "cell_type": "code",
   "execution_count": 14,
   "metadata": {
    "scrolled": true
   },
   "outputs": [
    {
     "name": "stderr",
     "output_type": "stream",
     "text": [
      "C:\\Users\\amand\\Anaconda3\\lib\\site-packages\\pandas\\core\\indexes\\base.py:2084: VisibleDeprecationWarning: using a non-integer number instead of an integer will result in an error in the future\n",
      "  return getitem(key)\n"
     ]
    },
    {
     "data": {
      "image/png": "[encoded data removed]",
      "text/plain": [
       "<Figure size 432x288 with 1 Axes>"
      ]
     },
     "metadata": {
      "needs_background": "light"
     },
     "output_type": "display_data"
    }
   ],
   "source": [
    "# Design a query to retrieve the last 12 months of precipitation data and plot the results\n",
    "max_id = session.query(func.max(Measurement.date)).scalar()\n",
    "#print(max_id) \n",
    "\n",
    "# Calculate the date 1 year ago from the last data point in the database\n",
    "maxDate = dt.date(2017, 8 ,23)\n",
    "year_ago = maxDate - dt.timedelta(days=365)\n",
    "#print(\"Date year ago: \", year_ago)\n",
    "\n",
    "# Perform a query to retrieve the data and precipitation scores\n",
    "pdata = [Measurement.date, Measurement.prcp]\n",
    "\n",
    "prcp_data = session.query(*pdata).\\\n",
    "    filter(Measurement.date <= maxDate).\\\n",
    "    filter(Measurement.date >= year_ago).all()\n",
    "#prcp_data\n",
    "\n",
    "# Save the query results as a Pandas DataFrame and set the index to the date column\n",
    "prcp_df = pd.DataFrame(prcp_data, columns=['date', 'prcp'])\n",
    "#prcp_df.head()\n",
    "\n",
    "# Sort the dataframe by date\n",
    "#prcp_df.sort_values(by='date')\n",
    "\n",
    "# Use Pandas Plotting with Matplotlib to plot the data\n",
    "prcp_df.plot(x='date', y='prcp')\n",
    "plt.xlabel(\"date\")\n",
    "plt.show()"
   ]
  },
  {
   "cell_type": "code",
   "execution_count": 15,
   "metadata": {},
   "outputs": [
    {
     "data": {
      "text/html": [
       "<div>\n",
       "<style scoped>\n",
       "    .dataframe tbody tr th:only-of-type {\n",
       "        vertical-align: middle;\n",
       "    }\n",
       "\n",
       "    .dataframe tbody tr th {\n",
       "        vertical-align: top;\n",
       "    }\n",
       "\n",
       "    .dataframe thead th {\n",
       "        text-align: right;\n",
       "    }\n",
       "</style>\n",
       "<table border=\"1\" class=\"dataframe\">\n",
       "  <thead>\n",
       "    <tr style=\"text-align: right;\">\n",
       "      <th></th>\n",
       "      <th>prcp</th>\n",
       "    </tr>\n",
       "  </thead>\n",
       "  <tbody>\n",
       "    <tr>\n",
       "      <th>count</th>\n",
       "      <td>2021.000000</td>\n",
       "    </tr>\n",
       "    <tr>\n",
       "      <th>mean</th>\n",
       "      <td>0.177279</td>\n",
       "    </tr>\n",
       "    <tr>\n",
       "      <th>std</th>\n",
       "      <td>0.461190</td>\n",
       "    </tr>\n",
       "    <tr>\n",
       "      <th>min</th>\n",
       "      <td>0.000000</td>\n",
       "    </tr>\n",
       "    <tr>\n",
       "      <th>25%</th>\n",
       "      <td>0.000000</td>\n",
       "    </tr>\n",
       "    <tr>\n",
       "      <th>50%</th>\n",
       "      <td>0.020000</td>\n",
       "    </tr>\n",
       "    <tr>\n",
       "      <th>75%</th>\n",
       "      <td>0.130000</td>\n",
       "    </tr>\n",
       "    <tr>\n",
       "      <th>max</th>\n",
       "      <td>6.700000</td>\n",
       "    </tr>\n",
       "  </tbody>\n",
       "</table>\n",
       "</div>"
      ],
      "text/plain": [
       "              prcp\n",
       "count  2021.000000\n",
       "mean      0.177279\n",
       "std       0.461190\n",
       "min       0.000000\n",
       "25%       0.000000\n",
       "50%       0.020000\n",
       "75%       0.130000\n",
       "max       6.700000"
      ]
     },
     "execution_count": 15,
     "metadata": {},
     "output_type": "execute_result"
    }
   ],
   "source": [
    "# Use Pandas to calcualte the summary statistics for the precipitation data\n",
    "prcp_df.describe()"
   ]
  },
  {
   "cell_type": "code",
   "execution_count": 16,
   "metadata": {},
   "outputs": [
    {
     "data": {
      "text/plain": [
       "9"
      ]
     },
     "execution_count": 16,
     "metadata": {},
     "output_type": "execute_result"
    }
   ],
   "source": [
    "# Design a query to show how many stations are available in this dataset?\n",
    "stations = session.query(Station).group_by(Station.station).count()\n",
    "stations"
   ]
  },
  {
   "cell_type": "code",
   "execution_count": 17,
   "metadata": {},
   "outputs": [
    {
     "data": {
      "text/plain": [
       "[('USC00519281', 2772),\n",
       " ('USC00519397', 2724),\n",
       " ('USC00513117', 2709),\n",
       " ('USC00519523', 2669),\n",
       " ('USC00516128', 2612),\n",
       " ('USC00514830', 2202),\n",
       " ('USC00511918', 1979),\n",
       " ('USC00517948', 1372),\n",
       " ('USC00518838', 511)]"
      ]
     },
     "execution_count": 17,
     "metadata": {},
     "output_type": "execute_result"
    }
   ],
   "source": [
    "# What are the most active stations? (i.e. what stations have the most rows)?\n",
    "# List the stations and the counts in descending order.\n",
    "staions_active = session.query(Measurement.station, func.count(Measurement.station)).group_by(Measurement.station).order_by(func.count(Measurement.station).desc()).all()\n",
    "staions_active"
   ]
  },
  {
   "cell_type": "code",
   "execution_count": 18,
   "metadata": {},
   "outputs": [
    {
     "name": "stdout",
     "output_type": "stream",
     "text": [
      "[(53.0,)] [(87.0,)] [(73.09795396419437,)]\n"
     ]
    }
   ],
   "source": [
    "# Using the station id from the previous query, calculate the lowest temperature recorded, \n",
    "# highest temperature recorded, and average temperature most active station?\n",
    "max = session.query(func.max(Measurement.tobs)).all()\n",
    "min = session.query(func.min(Measurement.tobs)).all()\n",
    "avrg = session.query(func.avg(Measurement.tobs)).all()\n",
    "\n",
    "print(min, max, avrg)"
   ]
  },
  {
   "cell_type": "code",
   "execution_count": 19,
   "metadata": {},
   "outputs": [
    {
     "data": {
      "text/plain": [
       "[('2016-08-23', 77.0, 'USC00519281'),\n",
       " ('2016-08-24', 77.0, 'USC00519281'),\n",
       " ('2016-08-25', 80.0, 'USC00519281'),\n",
       " ('2016-08-26', 80.0, 'USC00519281'),\n",
       " ('2016-08-27', 75.0, 'USC00519281'),\n",
       " ('2016-08-28', 73.0, 'USC00519281'),\n",
       " ('2016-08-29', 78.0, 'USC00519281'),\n",
       " ('2016-08-30', 77.0, 'USC00519281'),\n",
       " ('2016-08-31', 78.0, 'USC00519281'),\n",
       " ('2016-09-01', 80.0, 'USC00519281'),\n",
       " ('2016-09-02', 80.0, 'USC00519281'),\n",
       " ('2016-09-03', 78.0, 'USC00519281'),\n",
       " ('2016-09-04', 78.0, 'USC00519281'),\n",
       " ('2016-09-05', 78.0, 'USC00519281'),\n",
       " ('2016-09-06', 73.0, 'USC00519281'),\n",
       " ('2016-09-07', 74.0, 'USC00519281'),\n",
       " ('2016-09-08', 80.0, 'USC00519281'),\n",
       " ('2016-09-09', 79.0, 'USC00519281'),\n",
       " ('2016-09-10', 77.0, 'USC00519281'),\n",
       " ('2016-09-11', 80.0, 'USC00519281'),\n",
       " ('2016-09-12', 76.0, 'USC00519281'),\n",
       " ('2016-09-13', 79.0, 'USC00519281'),\n",
       " ('2016-09-14', 75.0, 'USC00519281'),\n",
       " ('2016-09-15', 79.0, 'USC00519281'),\n",
       " ('2016-09-16', 78.0, 'USC00519281'),\n",
       " ('2016-09-17', 79.0, 'USC00519281'),\n",
       " ('2016-09-18', 78.0, 'USC00519281'),\n",
       " ('2016-09-19', 78.0, 'USC00519281'),\n",
       " ('2016-09-20', 76.0, 'USC00519281'),\n",
       " ('2016-09-21', 74.0, 'USC00519281'),\n",
       " ('2016-09-22', 77.0, 'USC00519281'),\n",
       " ('2016-09-23', 78.0, 'USC00519281'),\n",
       " ('2016-09-24', 79.0, 'USC00519281'),\n",
       " ('2016-09-25', 79.0, 'USC00519281'),\n",
       " ('2016-09-26', 77.0, 'USC00519281'),\n",
       " ('2016-09-27', 80.0, 'USC00519281'),\n",
       " ('2016-09-28', 78.0, 'USC00519281'),\n",
       " ('2016-09-29', 78.0, 'USC00519281'),\n",
       " ('2016-09-30', 78.0, 'USC00519281'),\n",
       " ('2016-10-01', 77.0, 'USC00519281'),\n",
       " ('2016-10-02', 79.0, 'USC00519281'),\n",
       " ('2016-10-03', 79.0, 'USC00519281'),\n",
       " ('2016-10-04', 79.0, 'USC00519281'),\n",
       " ('2016-10-05', 79.0, 'USC00519281'),\n",
       " ('2016-10-06', 75.0, 'USC00519281'),\n",
       " ('2016-10-07', 76.0, 'USC00519281'),\n",
       " ('2016-10-08', 73.0, 'USC00519281'),\n",
       " ('2016-10-09', 72.0, 'USC00519281'),\n",
       " ('2016-10-10', 71.0, 'USC00519281'),\n",
       " ('2016-10-11', 77.0, 'USC00519281'),\n",
       " ('2016-10-12', 79.0, 'USC00519281'),\n",
       " ('2016-10-13', 78.0, 'USC00519281'),\n",
       " ('2016-10-14', 79.0, 'USC00519281'),\n",
       " ('2016-10-15', 77.0, 'USC00519281'),\n",
       " ('2016-10-16', 79.0, 'USC00519281'),\n",
       " ('2016-10-17', 77.0, 'USC00519281'),\n",
       " ('2016-10-18', 78.0, 'USC00519281'),\n",
       " ('2016-10-19', 78.0, 'USC00519281'),\n",
       " ('2016-10-20', 78.0, 'USC00519281'),\n",
       " ('2016-10-21', 78.0, 'USC00519281'),\n",
       " ('2016-10-22', 77.0, 'USC00519281'),\n",
       " ('2016-10-23', 74.0, 'USC00519281'),\n",
       " ('2016-10-24', 75.0, 'USC00519281'),\n",
       " ('2016-10-25', 76.0, 'USC00519281'),\n",
       " ('2016-10-26', 73.0, 'USC00519281'),\n",
       " ('2016-10-27', 76.0, 'USC00519281'),\n",
       " ('2016-10-28', 74.0, 'USC00519281'),\n",
       " ('2016-10-29', 77.0, 'USC00519281'),\n",
       " ('2016-10-30', 76.0, 'USC00519281'),\n",
       " ('2016-10-31', 76.0, 'USC00519281'),\n",
       " ('2016-11-01', 74.0, 'USC00519281'),\n",
       " ('2016-11-02', 75.0, 'USC00519281'),\n",
       " ('2016-11-03', 75.0, 'USC00519281'),\n",
       " ('2016-11-04', 75.0, 'USC00519281'),\n",
       " ('2016-11-05', 75.0, 'USC00519281'),\n",
       " ('2016-11-06', 71.0, 'USC00519281'),\n",
       " ('2016-11-07', 63.0, 'USC00519281'),\n",
       " ('2016-11-08', 70.0, 'USC00519281'),\n",
       " ('2016-11-09', 68.0, 'USC00519281'),\n",
       " ('2016-11-10', 67.0, 'USC00519281'),\n",
       " ('2016-11-11', 77.0, 'USC00519281'),\n",
       " ('2016-11-12', 74.0, 'USC00519281'),\n",
       " ('2016-11-13', 77.0, 'USC00519281'),\n",
       " ('2016-11-14', 76.0, 'USC00519281'),\n",
       " ('2016-11-15', 76.0, 'USC00519281'),\n",
       " ('2016-11-16', 75.0, 'USC00519281'),\n",
       " ('2016-11-17', 76.0, 'USC00519281'),\n",
       " ('2016-11-18', 75.0, 'USC00519281'),\n",
       " ('2016-11-19', 73.0, 'USC00519281'),\n",
       " ('2016-11-20', 75.0, 'USC00519281'),\n",
       " ('2016-11-21', 73.0, 'USC00519281'),\n",
       " ('2016-11-22', 75.0, 'USC00519281'),\n",
       " ('2016-11-23', 74.0, 'USC00519281'),\n",
       " ('2016-11-24', 75.0, 'USC00519281'),\n",
       " ('2016-11-25', 74.0, 'USC00519281'),\n",
       " ('2016-11-26', 75.0, 'USC00519281'),\n",
       " ('2016-11-27', 73.0, 'USC00519281'),\n",
       " ('2016-11-28', 75.0, 'USC00519281'),\n",
       " ('2016-11-29', 73.0, 'USC00519281'),\n",
       " ('2016-11-30', 73.0, 'USC00519281'),\n",
       " ('2016-12-01', 74.0, 'USC00519281'),\n",
       " ('2016-12-02', 70.0, 'USC00519281'),\n",
       " ('2016-12-03', 72.0, 'USC00519281'),\n",
       " ('2016-12-04', 70.0, 'USC00519281'),\n",
       " ('2016-12-05', 67.0, 'USC00519281'),\n",
       " ('2016-12-06', 67.0, 'USC00519281'),\n",
       " ('2016-12-07', 69.0, 'USC00519281'),\n",
       " ('2016-12-08', 70.0, 'USC00519281'),\n",
       " ('2016-12-09', 68.0, 'USC00519281'),\n",
       " ('2016-12-10', 69.0, 'USC00519281'),\n",
       " ('2016-12-11', 69.0, 'USC00519281'),\n",
       " ('2016-12-12', 66.0, 'USC00519281'),\n",
       " ('2016-12-13', 65.0, 'USC00519281'),\n",
       " ('2016-12-14', 68.0, 'USC00519281'),\n",
       " ('2016-12-15', 62.0, 'USC00519281'),\n",
       " ('2016-12-16', 75.0, 'USC00519281'),\n",
       " ('2016-12-17', 70.0, 'USC00519281'),\n",
       " ('2016-12-18', 69.0, 'USC00519281'),\n",
       " ('2016-12-19', 76.0, 'USC00519281'),\n",
       " ('2016-12-20', 76.0, 'USC00519281'),\n",
       " ('2016-12-21', 74.0, 'USC00519281'),\n",
       " ('2016-12-22', 73.0, 'USC00519281'),\n",
       " ('2016-12-23', 71.0, 'USC00519281'),\n",
       " ('2016-12-24', 74.0, 'USC00519281'),\n",
       " ('2016-12-25', 74.0, 'USC00519281'),\n",
       " ('2016-12-26', 72.0, 'USC00519281'),\n",
       " ('2016-12-27', 71.0, 'USC00519281'),\n",
       " ('2016-12-28', 72.0, 'USC00519281'),\n",
       " ('2016-12-29', 74.0, 'USC00519281'),\n",
       " ('2016-12-30', 69.0, 'USC00519281'),\n",
       " ('2016-12-31', 67.0, 'USC00519281'),\n",
       " ('2017-01-01', 72.0, 'USC00519281'),\n",
       " ('2017-01-02', 70.0, 'USC00519281'),\n",
       " ('2017-01-03', 64.0, 'USC00519281'),\n",
       " ('2017-01-04', 63.0, 'USC00519281'),\n",
       " ('2017-01-05', 63.0, 'USC00519281'),\n",
       " ('2017-01-06', 62.0, 'USC00519281'),\n",
       " ('2017-01-07', 70.0, 'USC00519281'),\n",
       " ('2017-01-08', 70.0, 'USC00519281'),\n",
       " ('2017-01-09', 62.0, 'USC00519281'),\n",
       " ('2017-01-10', 62.0, 'USC00519281'),\n",
       " ('2017-01-11', 63.0, 'USC00519281'),\n",
       " ('2017-01-12', 65.0, 'USC00519281'),\n",
       " ('2017-01-13', 69.0, 'USC00519281'),\n",
       " ('2017-01-14', 77.0, 'USC00519281'),\n",
       " ('2017-01-15', 70.0, 'USC00519281'),\n",
       " ('2017-01-16', 74.0, 'USC00519281'),\n",
       " ('2017-01-17', 69.0, 'USC00519281'),\n",
       " ('2017-01-18', 72.0, 'USC00519281'),\n",
       " ('2017-01-19', 71.0, 'USC00519281'),\n",
       " ('2017-01-20', 69.0, 'USC00519281'),\n",
       " ('2017-01-21', 71.0, 'USC00519281'),\n",
       " ('2017-01-22', 71.0, 'USC00519281'),\n",
       " ('2017-01-23', 72.0, 'USC00519281'),\n",
       " ('2017-01-24', 72.0, 'USC00519281'),\n",
       " ('2017-01-25', 69.0, 'USC00519281'),\n",
       " ('2017-01-26', 70.0, 'USC00519281'),\n",
       " ('2017-01-27', 66.0, 'USC00519281'),\n",
       " ('2017-01-28', 65.0, 'USC00519281'),\n",
       " ('2017-01-29', 69.0, 'USC00519281'),\n",
       " ('2017-01-30', 68.0, 'USC00519281'),\n",
       " ('2017-01-31', 68.0, 'USC00519281'),\n",
       " ('2017-02-01', 68.0, 'USC00519281'),\n",
       " ('2017-02-02', 59.0, 'USC00519281'),\n",
       " ('2017-02-03', 60.0, 'USC00519281'),\n",
       " ('2017-02-04', 70.0, 'USC00519281'),\n",
       " ('2017-02-05', 73.0, 'USC00519281'),\n",
       " ('2017-02-06', 75.0, 'USC00519281'),\n",
       " ('2017-02-07', 64.0, 'USC00519281'),\n",
       " ('2017-02-08', 59.0, 'USC00519281'),\n",
       " ('2017-02-09', 59.0, 'USC00519281'),\n",
       " ('2017-02-10', 62.0, 'USC00519281'),\n",
       " ('2017-02-11', 68.0, 'USC00519281'),\n",
       " ('2017-02-12', 70.0, 'USC00519281'),\n",
       " ('2017-02-13', 73.0, 'USC00519281'),\n",
       " ('2017-02-14', 79.0, 'USC00519281'),\n",
       " ('2017-02-15', 75.0, 'USC00519281'),\n",
       " ('2017-02-16', 65.0, 'USC00519281'),\n",
       " ('2017-02-17', 70.0, 'USC00519281'),\n",
       " ('2017-02-18', 74.0, 'USC00519281'),\n",
       " ('2017-02-19', 70.0, 'USC00519281'),\n",
       " ('2017-02-20', 70.0, 'USC00519281'),\n",
       " ('2017-02-21', 71.0, 'USC00519281'),\n",
       " ('2017-02-22', 71.0, 'USC00519281'),\n",
       " ('2017-02-23', 71.0, 'USC00519281'),\n",
       " ('2017-02-24', 69.0, 'USC00519281'),\n",
       " ('2017-02-25', 61.0, 'USC00519281'),\n",
       " ('2017-02-26', 67.0, 'USC00519281'),\n",
       " ('2017-02-27', 65.0, 'USC00519281'),\n",
       " ('2017-02-28', 72.0, 'USC00519281'),\n",
       " ('2017-03-01', 71.0, 'USC00519281'),\n",
       " ('2017-03-02', 73.0, 'USC00519281'),\n",
       " ('2017-03-03', 72.0, 'USC00519281'),\n",
       " ('2017-03-04', 77.0, 'USC00519281'),\n",
       " ('2017-03-05', 73.0, 'USC00519281'),\n",
       " ('2017-03-06', 67.0, 'USC00519281'),\n",
       " ('2017-03-07', 62.0, 'USC00519281'),\n",
       " ('2017-03-08', 64.0, 'USC00519281'),\n",
       " ('2017-03-09', 67.0, 'USC00519281'),\n",
       " ('2017-03-10', 66.0, 'USC00519281'),\n",
       " ('2017-03-11', 81.0, 'USC00519281'),\n",
       " ('2017-03-12', 69.0, 'USC00519281'),\n",
       " ('2017-03-13', 66.0, 'USC00519281'),\n",
       " ('2017-03-14', 67.0, 'USC00519281'),\n",
       " ('2017-03-15', 69.0, 'USC00519281'),\n",
       " ('2017-03-16', 66.0, 'USC00519281'),\n",
       " ('2017-03-17', 68.0, 'USC00519281'),\n",
       " ('2017-03-18', 65.0, 'USC00519281'),\n",
       " ('2017-03-19', 74.0, 'USC00519281'),\n",
       " ('2017-03-20', 69.0, 'USC00519281'),\n",
       " ('2017-03-21', 72.0, 'USC00519281'),\n",
       " ('2017-03-22', 73.0, 'USC00519281'),\n",
       " ('2017-03-23', 72.0, 'USC00519281'),\n",
       " ('2017-03-24', 71.0, 'USC00519281'),\n",
       " ('2017-03-25', 76.0, 'USC00519281'),\n",
       " ('2017-03-26', 77.0, 'USC00519281'),\n",
       " ('2017-03-27', 76.0, 'USC00519281'),\n",
       " ('2017-03-28', 74.0, 'USC00519281'),\n",
       " ('2017-03-29', 68.0, 'USC00519281'),\n",
       " ('2017-03-30', 73.0, 'USC00519281'),\n",
       " ('2017-03-31', 71.0, 'USC00519281'),\n",
       " ('2017-04-01', 74.0, 'USC00519281'),\n",
       " ('2017-04-02', 75.0, 'USC00519281'),\n",
       " ('2017-04-03', 70.0, 'USC00519281'),\n",
       " ('2017-04-04', 67.0, 'USC00519281'),\n",
       " ('2017-04-05', 71.0, 'USC00519281'),\n",
       " ('2017-04-06', 67.0, 'USC00519281'),\n",
       " ('2017-04-07', 74.0, 'USC00519281'),\n",
       " ('2017-04-08', 77.0, 'USC00519281'),\n",
       " ('2017-04-09', 78.0, 'USC00519281'),\n",
       " ('2017-04-10', 67.0, 'USC00519281'),\n",
       " ('2017-04-11', 70.0, 'USC00519281'),\n",
       " ('2017-04-12', 69.0, 'USC00519281'),\n",
       " ('2017-04-13', 69.0, 'USC00519281'),\n",
       " ('2017-04-14', 74.0, 'USC00519281'),\n",
       " ('2017-04-15', 78.0, 'USC00519281'),\n",
       " ('2017-04-16', 71.0, 'USC00519281'),\n",
       " ('2017-04-17', 67.0, 'USC00519281'),\n",
       " ('2017-04-18', 68.0, 'USC00519281'),\n",
       " ('2017-04-19', 67.0, 'USC00519281'),\n",
       " ('2017-04-20', 76.0, 'USC00519281'),\n",
       " ('2017-04-21', 69.0, 'USC00519281'),\n",
       " ('2017-04-22', 72.0, 'USC00519281'),\n",
       " ('2017-04-23', 76.0, 'USC00519281'),\n",
       " ('2017-04-24', 68.0, 'USC00519281'),\n",
       " ('2017-04-25', 72.0, 'USC00519281'),\n",
       " ('2017-04-26', 74.0, 'USC00519281'),\n",
       " ('2017-04-27', 70.0, 'USC00519281'),\n",
       " ('2017-04-28', 67.0, 'USC00519281'),\n",
       " ('2017-04-29', 72.0, 'USC00519281'),\n",
       " ('2017-04-30', 60.0, 'USC00519281'),\n",
       " ('2017-05-01', 65.0, 'USC00519281'),\n",
       " ('2017-05-02', 75.0, 'USC00519281'),\n",
       " ('2017-05-03', 70.0, 'USC00519281'),\n",
       " ('2017-05-04', 75.0, 'USC00519281'),\n",
       " ('2017-05-05', 70.0, 'USC00519281'),\n",
       " ('2017-05-06', 79.0, 'USC00519281'),\n",
       " ('2017-05-07', 75.0, 'USC00519281'),\n",
       " ('2017-05-08', 70.0, 'USC00519281'),\n",
       " ('2017-05-09', 67.0, 'USC00519281'),\n",
       " ('2017-05-10', 74.0, 'USC00519281'),\n",
       " ('2017-05-11', 70.0, 'USC00519281'),\n",
       " ('2017-05-12', 75.0, 'USC00519281'),\n",
       " ('2017-05-13', 76.0, 'USC00519281'),\n",
       " ('2017-05-14', 77.0, 'USC00519281'),\n",
       " ('2017-05-15', 74.0, 'USC00519281'),\n",
       " ('2017-05-16', 74.0, 'USC00519281'),\n",
       " ('2017-05-17', 74.0, 'USC00519281'),\n",
       " ('2017-05-18', 69.0, 'USC00519281'),\n",
       " ('2017-05-19', 68.0, 'USC00519281'),\n",
       " ('2017-05-20', 76.0, 'USC00519281'),\n",
       " ('2017-05-21', 74.0, 'USC00519281'),\n",
       " ('2017-05-22', 71.0, 'USC00519281'),\n",
       " ('2017-05-23', 71.0, 'USC00519281'),\n",
       " ('2017-05-24', 74.0, 'USC00519281'),\n",
       " ('2017-05-25', 74.0, 'USC00519281'),\n",
       " ('2017-05-26', 74.0, 'USC00519281'),\n",
       " ('2017-05-27', 74.0, 'USC00519281'),\n",
       " ('2017-05-28', 80.0, 'USC00519281'),\n",
       " ('2017-05-29', 74.0, 'USC00519281'),\n",
       " ('2017-05-30', 72.0, 'USC00519281'),\n",
       " ('2017-05-31', 75.0, 'USC00519281'),\n",
       " ('2017-06-01', 80.0, 'USC00519281'),\n",
       " ('2017-06-02', 76.0, 'USC00519281'),\n",
       " ('2017-06-03', 76.0, 'USC00519281'),\n",
       " ('2017-06-04', 77.0, 'USC00519281'),\n",
       " ('2017-06-05', 75.0, 'USC00519281'),\n",
       " ('2017-06-06', 75.0, 'USC00519281'),\n",
       " ('2017-06-07', 75.0, 'USC00519281'),\n",
       " ('2017-06-08', 75.0, 'USC00519281'),\n",
       " ('2017-06-09', 72.0, 'USC00519281'),\n",
       " ('2017-06-10', 74.0, 'USC00519281'),\n",
       " ('2017-06-11', 74.0, 'USC00519281'),\n",
       " ('2017-06-12', 74.0, 'USC00519281'),\n",
       " ('2017-06-13', 76.0, 'USC00519281'),\n",
       " ('2017-06-14', 74.0, 'USC00519281'),\n",
       " ('2017-06-15', 75.0, 'USC00519281'),\n",
       " ('2017-06-16', 73.0, 'USC00519281'),\n",
       " ('2017-06-17', 79.0, 'USC00519281'),\n",
       " ('2017-06-18', 75.0, 'USC00519281'),\n",
       " ('2017-06-19', 72.0, 'USC00519281'),\n",
       " ('2017-06-20', 72.0, 'USC00519281'),\n",
       " ('2017-06-21', 74.0, 'USC00519281'),\n",
       " ('2017-06-22', 72.0, 'USC00519281'),\n",
       " ('2017-06-23', 72.0, 'USC00519281'),\n",
       " ('2017-06-24', 77.0, 'USC00519281'),\n",
       " ('2017-06-25', 71.0, 'USC00519281'),\n",
       " ('2017-06-26', 73.0, 'USC00519281'),\n",
       " ('2017-06-27', 76.0, 'USC00519281'),\n",
       " ('2017-06-28', 77.0, 'USC00519281'),\n",
       " ('2017-06-29', 76.0, 'USC00519281'),\n",
       " ('2017-06-30', 76.0, 'USC00519281'),\n",
       " ('2017-07-01', 79.0, 'USC00519281'),\n",
       " ('2017-07-02', 81.0, 'USC00519281'),\n",
       " ('2017-07-03', 76.0, 'USC00519281'),\n",
       " ('2017-07-04', 78.0, 'USC00519281'),\n",
       " ('2017-07-05', 77.0, 'USC00519281'),\n",
       " ('2017-07-06', 74.0, 'USC00519281'),\n",
       " ('2017-07-07', 75.0, 'USC00519281'),\n",
       " ('2017-07-08', 78.0, 'USC00519281'),\n",
       " ('2017-07-09', 78.0, 'USC00519281'),\n",
       " ('2017-07-10', 69.0, 'USC00519281'),\n",
       " ('2017-07-11', 72.0, 'USC00519281'),\n",
       " ('2017-07-12', 74.0, 'USC00519281'),\n",
       " ('2017-07-13', 74.0, 'USC00519281'),\n",
       " ('2017-07-14', 76.0, 'USC00519281'),\n",
       " ('2017-07-15', 80.0, 'USC00519281'),\n",
       " ('2017-07-16', 80.0, 'USC00519281'),\n",
       " ('2017-07-17', 76.0, 'USC00519281'),\n",
       " ('2017-07-18', 76.0, 'USC00519281'),\n",
       " ('2017-07-19', 76.0, 'USC00519281'),\n",
       " ('2017-07-20', 77.0, 'USC00519281'),\n",
       " ('2017-07-21', 77.0, 'USC00519281'),\n",
       " ('2017-07-22', 77.0, 'USC00519281'),\n",
       " ('2017-07-23', 82.0, 'USC00519281'),\n",
       " ('2017-07-24', 75.0, 'USC00519281'),\n",
       " ('2017-07-25', 77.0, 'USC00519281'),\n",
       " ('2017-07-26', 75.0, 'USC00519281'),\n",
       " ('2017-07-27', 76.0, 'USC00519281'),\n",
       " ('2017-07-28', 81.0, 'USC00519281'),\n",
       " ('2017-07-29', 82.0, 'USC00519281'),\n",
       " ('2017-07-30', 81.0, 'USC00519281'),\n",
       " ('2017-07-31', 76.0, 'USC00519281'),\n",
       " ('2017-08-04', 77.0, 'USC00519281'),\n",
       " ('2017-08-05', 82.0, 'USC00519281'),\n",
       " ('2017-08-06', 83.0, 'USC00519281'),\n",
       " ('2017-08-13', 77.0, 'USC00519281'),\n",
       " ('2017-08-14', 77.0, 'USC00519281'),\n",
       " ('2017-08-15', 77.0, 'USC00519281'),\n",
       " ('2017-08-16', 76.0, 'USC00519281'),\n",
       " ('2017-08-17', 76.0, 'USC00519281'),\n",
       " ('2017-08-18', 79.0, 'USC00519281')]"
      ]
     },
     "execution_count": 19,
     "metadata": {},
     "output_type": "execute_result"
    }
   ],
   "source": [
    "# Choose the station with the highest number of temperature observations.\n",
    "active = session.query(Measurement.station, Station.name, func.count(Measurement.station)).\\\n",
    "filter(Measurement.station == Station.station).group_by(Measurement.station)\\\n",
    ".order_by(func.count(Measurement.station).desc()).first()\n",
    "\n",
    "#active\n",
    "\n",
    "# Query the last 12 months of temperature observation data for this station and plot the results as a histogram\n",
    "tdata = [Measurement.date, Measurement.tobs, Measurement.station]\n",
    "\n",
    "temp_data = session.query(*tdata).\\\n",
    "    filter(Measurement.station=='USC00519281').\\\n",
    "    filter(Measurement.date <= maxDate).\\\n",
    "    filter(Measurement.date >= year_ago).all()\n",
    "\n",
    "temp_data\n"
   ]
  },
  {
   "cell_type": "code",
   "execution_count": 20,
   "metadata": {},
   "outputs": [
    {
     "data": {
      "text/html": [
       "<div>\n",
       "<style scoped>\n",
       "    .dataframe tbody tr th:only-of-type {\n",
       "        vertical-align: middle;\n",
       "    }\n",
       "\n",
       "    .dataframe tbody tr th {\n",
       "        vertical-align: top;\n",
       "    }\n",
       "\n",
       "    .dataframe thead th {\n",
       "        text-align: right;\n",
       "    }\n",
       "</style>\n",
       "<table border=\"1\" class=\"dataframe\">\n",
       "  <thead>\n",
       "    <tr style=\"text-align: right;\">\n",
       "      <th></th>\n",
       "      <th>date</th>\n",
       "      <th>tobs</th>\n",
       "      <th>station</th>\n",
       "    </tr>\n",
       "  </thead>\n",
       "  <tbody>\n",
       "    <tr>\n",
       "      <th>0</th>\n",
       "      <td>2016-08-23</td>\n",
       "      <td>77.0</td>\n",
       "      <td>USC00519281</td>\n",
       "    </tr>\n",
       "    <tr>\n",
       "      <th>1</th>\n",
       "      <td>2016-08-24</td>\n",
       "      <td>77.0</td>\n",
       "      <td>USC00519281</td>\n",
       "    </tr>\n",
       "    <tr>\n",
       "      <th>2</th>\n",
       "      <td>2016-08-25</td>\n",
       "      <td>80.0</td>\n",
       "      <td>USC00519281</td>\n",
       "    </tr>\n",
       "    <tr>\n",
       "      <th>3</th>\n",
       "      <td>2016-08-26</td>\n",
       "      <td>80.0</td>\n",
       "      <td>USC00519281</td>\n",
       "    </tr>\n",
       "    <tr>\n",
       "      <th>4</th>\n",
       "      <td>2016-08-27</td>\n",
       "      <td>75.0</td>\n",
       "      <td>USC00519281</td>\n",
       "    </tr>\n",
       "  </tbody>\n",
       "</table>\n",
       "</div>"
      ],
      "text/plain": [
       "         date  tobs      station\n",
       "0  2016-08-23  77.0  USC00519281\n",
       "1  2016-08-24  77.0  USC00519281\n",
       "2  2016-08-25  80.0  USC00519281\n",
       "3  2016-08-26  80.0  USC00519281\n",
       "4  2016-08-27  75.0  USC00519281"
      ]
     },
     "execution_count": 20,
     "metadata": {},
     "output_type": "execute_result"
    }
   ],
   "source": [
    "tobs_df = pd.DataFrame(temp_data, columns=['date','tobs','station'])\n",
    "tobs = tobs_df['tobs']\n",
    "tobs_df.head()"
   ]
  },
  {
   "cell_type": "code",
   "execution_count": 21,
   "metadata": {},
   "outputs": [
    {
     "data": {
      "image/png": "[encoded data removed]",
      "text/plain": [
       "<Figure size 432x288 with 1 Axes>"
      ]
     },
     "metadata": {
      "needs_background": "light"
     },
     "output_type": "display_data"
    }
   ],
   "source": [
    "plt.hist(tobs, bins=12)\n",
    "plt.xlabel('tobs')\n",
    "plt.ylabel('Frequency')\n",
    "plt.grid()\n",
    "plt.show()"
   ]
  },
  {
   "cell_type": "code",
   "execution_count": 22,
   "metadata": {},
   "outputs": [
    {
     "name": "stdout",
     "output_type": "stream",
     "text": [
      "[(71.0, 76.96992481203007, 83.0)]\n"
     ]
    }
   ],
   "source": [
    "# This function called `calc_temps` will accept start date and end date in the format '%Y-%m-%d' \n",
    "# and return the minimum, average, and maximum temperatures for that range of dates\n",
    "def calc_temps(start_date, end_date):\n",
    "    \"\"\"TMIN, TAVG, and TMAX for a list of dates.\n",
    "    \n",
    "    Args:\n",
    "        start_date (string): A date string in the format %Y-%m-%d\n",
    "        end_date (string): A date string in the format %Y-%m-%d\n",
    "        \n",
    "    Returns:\n",
    "        TMIN, TAVE, and TMAX\n",
    "    \"\"\"\n",
    "    \n",
    "    return session.query(func.min(Measurement.tobs), func.avg(Measurement.tobs), func.max(Measurement.tobs)).\\\n",
    "        filter(Measurement.date >= start_date).filter(Measurement.date <= end_date).all()\n",
    "\n",
    "# function usage example\n",
    "print(calc_temps('2017-06-10', '2017-06-30'))\n",
    "\n",
    "#print(calc_temps('2012-02-28', '2012-03-05'))\n",
    "#[(62.0, 69.57142857142857, 74.0)]"
   ]
  },
  {
   "cell_type": "code",
   "execution_count": 23,
   "metadata": {},
   "outputs": [
    {
     "name": "stdout",
     "output_type": "stream",
     "text": [
      "[(69.0, 76.1970802919708, 81.0)]\n"
     ]
    }
   ],
   "source": [
    "# Calculate date 1 year ago\n",
    "endDate = dt.date(2017, 6 ,10)\n",
    "Newyear_ago = endDate - dt.timedelta(days=365)\n",
    "#print(\"Date year ago: \", Newyear_ago)\n",
    "\n",
    "# Use your previous function `calc_temps` to calculate the tmin, tavg, and tmax \n",
    "# for your trip using the previous year's data for those same dates.\n",
    "def calc_temps(start_date, end_date):\n",
    "    \"\"\"TMIN, TAVG, and TMAX for a list of dates.\n",
    "    \n",
    "    Args:\n",
    "        start_date (string): A date string in the format %Y-%m-%d\n",
    "        end_date (string): A date string in the format %Y-%m-%d\n",
    "        \n",
    "    Returns:\n",
    "        TMIN, TAVE, and TMAX\n",
    "    \"\"\"\n",
    "    \n",
    "    return session.query(func.min(Measurement.tobs), func.avg(Measurement.tobs), func.max(Measurement.tobs)).\\\n",
    "        filter(Measurement.date >= start_date).filter(Measurement.date <= end_date).all()\n",
    "\n",
    "# function usage example\n",
    "print(calc_temps('2016-06-10', '2016-06-30'))"
   ]
  },
  {
   "cell_type": "code",
   "execution_count": 24,
   "metadata": {},
   "outputs": [
    {
     "name": "stderr",
     "output_type": "stream",
     "text": [
      "C:\\Users\\amand\\Anaconda3\\lib\\site-packages\\matplotlib\\cbook\\deprecation.py:107: MatplotlibDeprecationWarning: Passing one of 'on', 'true', 'off', 'false' as a boolean is deprecated; use an actual boolean (True/False) instead.\n",
      "  warnings.warn(message, mplDeprecation, stacklevel=1)\n"
     ]
    },
    {
     "data": {
      "image/png": "[encoded data removed]",
      "text/plain": [
       "<Figure size 288x576 with 1 Axes>"
      ]
     },
     "metadata": {
      "needs_background": "light"
     },
     "output_type": "display_data"
    }
   ],
   "source": [
    "# Plot the results from your previous query as a bar chart. \n",
    "# Use \"Trip Avg Temp\" as your Title\n",
    "# Use the average temperature for the y value\n",
    "# Use the peak-to-peak (tmax-tmin) value as the y error bar (yerr)\n",
    "tmax = 81\n",
    "tmin = 69\n",
    "tavg = 76.1970802919708\n",
    "difftemp = tmax - tmin\n",
    "\n",
    "plt.figure(figsize=(4, 8))\n",
    "plt.tick_params(bottom='off', top='off', labelbottom='off')\n",
    "plt.bar(1, tavg, yerr=difftemp)\n",
    "plt.ylabel('Temp (F)')\n",
    "plt.title('Trip Avg Temp')\n",
    "plt.grid()\n",
    "plt.show()\n"
   ]
  },
  {
   "cell_type": "code",
   "execution_count": 25,
   "metadata": {},
   "outputs": [
    {
     "data": {
      "text/plain": [
       "[('USC00519397',\n",
       "  0.0,\n",
       "  'HONOLULU OBSERVATORY 702.2, HI US',\n",
       "  -157.9992,\n",
       "  21.3152,\n",
       "  0.9),\n",
       " ('USC00519397', 0.0, 'KANEOHE 838.1, HI US', -157.8015, 21.4234, 14.6),\n",
       " ('USC00519397',\n",
       "  0.0,\n",
       "  'KUALOA RANCH HEADQUARTERS 886.9, HI US',\n",
       "  -157.8374,\n",
       "  21.5213,\n",
       "  7.0),\n",
       " ('USC00519397',\n",
       "  0.0,\n",
       "  'MANOA LYON ARBO 785.2, HI US',\n",
       "  -157.8025,\n",
       "  21.3331,\n",
       "  152.4),\n",
       " ('USC00519397', 0.0, 'PEARL CITY, HI US', -157.9751, 21.3934, 11.9),\n",
       " ('USC00519397', 0.0, 'UPPER WAHIAWA 874.3, HI US', -158.0111, 21.4992, 306.6),\n",
       " ('USC00519397',\n",
       "  0.0,\n",
       "  'WAIHEE 837.5, HI US',\n",
       "  -157.84888999999998,\n",
       "  21.45167,\n",
       "  32.9),\n",
       " ('USC00519397', 0.0, 'WAIKIKI 717.2, HI US', -157.8168, 21.2716, 3.0),\n",
       " ('USC00519397',\n",
       "  0.0,\n",
       "  'WAIMANALO EXPERIMENTAL FARM, HI US',\n",
       "  -157.71139,\n",
       "  21.33556,\n",
       "  19.5)]"
      ]
     },
     "execution_count": 25,
     "metadata": {},
     "output_type": "execute_result"
    }
   ],
   "source": [
    "# Calculate the rainfall per weather station for your trip dates using the previous year's matching dates.\n",
    "# Sort this in descending order by precipitation amount and list the station, name, latitude, longitude, and elevation\n",
    "#start_date = 2016-06-10\n",
    "#end_date = 2016-06-30\n",
    "\n",
    "endDate = dt.date(2016, 6 ,10)\n",
    "year_ago2 = endDate - dt.timedelta(days=365)\n",
    "\n",
    "sel = [Measurement.station, Measurement.prcp, Station.name, Station.longitude, Station.latitude, Station.elevation]\n",
    "\n",
    "rainfall_data = session.query(*sel).\\\n",
    "    filter(Measurement.date <= endDate).\\\n",
    "    filter(Measurement.date >= year_ago2).\\\n",
    "    group_by(Station.name).\\\n",
    "    order_by(Measurement.prcp).all()\n",
    "\n",
    "rainfall_data"
   ]
  },
  {
   "cell_type": "markdown",
   "metadata": {},
   "source": [
    "# Step 2 - Climate App"
   ]
  },
  {
   "cell_type": "code",
   "execution_count": 26,
   "metadata": {},
   "outputs": [],
   "source": [
    "from flask import Flask, jsonify"
   ]
  },
  {
   "cell_type": "code",
   "execution_count": 27,
   "metadata": {},
   "outputs": [],
   "source": [
    "app = Flask(__name__)"
   ]
  },
  {
   "cell_type": "code",
   "execution_count": 28,
   "metadata": {},
   "outputs": [],
   "source": [
    "# Homepage: List all routes that are available\n",
    "\n",
    "@app.route(\"/\")\n",
    "def welcome():\n",
    "    \"\"\"List all available api routes.\"\"\"\n",
    "    return (\n",
    "        f\"Available Routes:<br/>\"\n",
    "        f\"/api/v1.0/precipitation<br/>\"\n",
    "        f\"/api/v1.0/stations<br/>\"\n",
    "        f\"/api/v1.0/tobs<br/>\"\n",
    "        f\"/api/v1.0/<start><br/>\"\n",
    "        f\"/api/v1.0/<start>/<end>\"\n",
    "    )"
   ]
  },
  {
   "cell_type": "code",
   "execution_count": null,
   "metadata": {},
   "outputs": [],
   "source": [
    "@app.route(\"/api/v1.0/precipitation\")\n",
    "def precipitation():\n",
    "    maxDate = dt.date(2017, 8 ,23)\n",
    "    year_ago = maxDate - dt.timedelta(days=365)\n",
    "\n",
    "    past_temp = (session.query(Measurement.date, Measurement.prcp)\n",
    "                .filter(Measurement.date <= maxDate)\n",
    "                .filter(Measurement.date >= year_ago)\n",
    "                .order_by(Measurement.date).all())\n",
    "    \n",
    "    precip = {date: prcp for date, prcp in past_temp}\n",
    "    \n",
    "    return jsonify(precip)\n"
   ]
  },
  {
   "cell_type": "code",
   "execution_count": null,
   "metadata": {},
   "outputs": [],
   "source": [
    "@app.route('/api/v1.0/stations')\n",
    "def stations():\n",
    "\n",
    "    stations_all = session.query(Station.station).all()\n",
    "\n",
    "    return jsonify(stations_all)"
   ]
  },
  {
   "cell_type": "code",
   "execution_count": null,
   "metadata": {},
   "outputs": [],
   "source": [
    "@app.route('/api/v1.0/tobs') \n",
    "def tobs():  \n",
    "    maxDate = dt.date(2017, 8 ,23)\n",
    "    year_ago = maxDate - dt.timedelta(days=365)\n",
    "\n",
    "    lastyear = (session.query(Measurement.tobs)\n",
    "                .filter(Measurement.station == 'USC00519281')\n",
    "                .filter(Measurement.date <= maxDate)\n",
    "                .filter(Measurement.date >= year_ago)\n",
    "                .order_by(Measurement.tobs).all())\n",
    "    \n",
    "    return jsonify(lastyear)"
   ]
  },
  {
   "cell_type": "code",
   "execution_count": null,
   "metadata": {},
   "outputs": [],
   "source": [
    "@app.route('/api/v1.0/<start>') \n",
    "def start(start=None):\n",
    "\n",
    "    #start = Measurement.date <= '2010-01-01'\n",
    "    #end = Measurement.date >= '2017-08-23'\n",
    "\n",
    "    tobs_only = (session.query(Measurement.tobs).filter(Measurement.date.between(start, '2017-08-23')).all())\n",
    "    \n",
    "    tobs_df = pd.DataFrame(tobs_only)\n",
    "\n",
    "    tavg = tobs_df[\"tobs\"].mean()\n",
    "    tmax = tobs_df[\"tobs\"].max()\n",
    "    tmin = tobs_df[\"tobs\"].min()\n",
    "    \n",
    "    return jsonify(tavg, tmax, tmin)"
   ]
  },
  {
   "cell_type": "code",
   "execution_count": null,
   "metadata": {},
   "outputs": [],
   "source": [
    "@app.route('/api/v1.0/<start>/<end>') \n",
    "def startend(start=None, end=None):\n",
    "\n",
    "    #start = Measurement.date <= '2010-01-01'\n",
    "    #end = Measurement.date >= '2017-08-23'\n",
    "\n",
    "    tobs_only = (session.query(Measurement.tobs).filter(Measurement.date.between(start, end)).all())\n",
    "    \n",
    "    tobs_df = pd.DataFrame(tobs_only)\n",
    "\n",
    "    tavg = tobs_df[\"tobs\"].mean()\n",
    "    tmax = tobs_df[\"tobs\"].max()\n",
    "    tmin = tobs_df[\"tobs\"].min()\n",
    "    \n",
    "    return jsonify(tavg, tmax, tmin)"
   ]
  },
  {
   "cell_type": "code",
   "execution_count": null,
   "metadata": {},
   "outputs": [],
   "source": [
    "if __name__ == '__main__':\n",
    "    app.run(debug=True)"
   ]
  }
 ],
 "metadata": {
  "kernel_info": {
   "name": "python3"
  },
  "kernelspec": {
   "display_name": "Python 3",
   "language": "python",
   "name": "python3"
  },
  "language_info": {
   "codemirror_mode": {
    "name": "ipython",
    "version": 3
   },
   "file_extension": ".py",
   "mimetype": "text/x-python",
   "name": "python",
   "nbconvert_exporter": "python",
   "pygments_lexer": "ipython3",
   "version": "3.7.1"
  },
  "nteract": {
   "version": "0.9.1"
  },
  "varInspector": {
   "cols": {
    "lenName": 16,
    "lenType": 16,
    "lenVar": 40
   },
   "kernels_config": {
    "python": {
     "delete_cmd_postfix": "",
     "delete_cmd_prefix": "del ",
     "library": "var_list.py",
     "varRefreshCmd": "print(var_dic_list())"
    },
    "r": {
     "delete_cmd_postfix": ") ",
     "delete_cmd_prefix": "rm(",
     "library": "var_list.r",
     "varRefreshCmd": "cat(var_dic_list()) "
    }
   },
   "types_to_exclude": [
    "module",
    "function",
    "builtin_function_or_method",
    "instance",
    "_Feature"
   ],
   "window_display": false
  }
 },
 "nbformat": 4,
 "nbformat_minor": 2
}
